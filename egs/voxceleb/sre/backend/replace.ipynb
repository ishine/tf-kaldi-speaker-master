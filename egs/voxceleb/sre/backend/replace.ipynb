{
 "cells": [
  {
   "cell_type": "code",
   "execution_count": 17,
   "metadata": {},
   "outputs": [],
   "source": [
    "import sys\n",
    "\n",
    "\n",
    "fp_out = open('out', 'w')\n",
    "with open('wav.scp') as f:\n",
    "    for line in f:\n",
    "        #line = line.strip()\n",
    "        line = line.replace('/mnt/workspace/project/SRE18','/liry_tf/data/SRE19')\n",
    "        #print(line)\n",
    "        fp_out.write(line)\n",
    "fp_out.close()"
   ]
  },
  {
   "cell_type": "code",
   "execution_count": 18,
   "metadata": {},
   "outputs": [
    {
     "name": "stdout",
     "output_type": "stream",
     "text": [
      "/liry_tf/data/SRE19//musan/noise/free-sound/noise-free-sound-0404.wav\n"
     ]
    }
   ],
   "source": [
    "a=\"/mnt/workspace/project/SRE18//musan/noise/free-sound/noise-free-sound-0404.wav\"\n",
    "b = a.replace('/mnt/workspace/project/SRE18','/liry_tf/data/SRE19')\n",
    "print(b)"
   ]
  },
  {
   "cell_type": "code",
   "execution_count": 27,
   "metadata": {},
   "outputs": [
    {
     "name": "stdout",
     "output_type": "stream",
     "text": [
      "100304-sre06-kcbg-b\n"
     ]
    }
   ],
   "source": [
    "a=\"100304-sre06-kcbg-b-noise\"\n",
    "b,c=a.rsplit('-',1)\n",
    "if c==\"noise\" or  c==\"babble\" or c==\"music\":\n",
    "    uttid = b\n",
    "else:\n",
    "    uttid = a\n",
    "print(uttid)"
   ]
  },
  {
   "cell_type": "code",
   "execution_count": null,
   "metadata": {},
   "outputs": [],
   "source": []
  }
 ],
 "metadata": {
  "kernelspec": {
   "display_name": "Python 3",
   "language": "python",
   "name": "python3"
  },
  "language_info": {
   "codemirror_mode": {
    "name": "ipython",
    "version": 3
   },
   "file_extension": ".py",
   "mimetype": "text/x-python",
   "name": "python",
   "nbconvert_exporter": "python",
   "pygments_lexer": "ipython3",
   "version": "3.6.4"
  }
 },
 "nbformat": 4,
 "nbformat_minor": 2
}
