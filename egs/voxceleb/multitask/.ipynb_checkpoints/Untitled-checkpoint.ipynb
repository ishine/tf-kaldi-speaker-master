{
 "cells": [
  {
   "cell_type": "code",
   "execution_count": 26,
   "metadata": {},
   "outputs": [
    {
     "name": "stdout",
     "output_type": "stream",
     "text": [
      "nnet_conf/tdnn_multitask_a0.10_b0.10\n",
      "nnet_conf/tdnn_multitask_a0.10_b0.20\n",
      "nnet_conf/tdnn_multitask_a0.10_b0.30\n",
      "nnet_conf/tdnn_multitask_a0.10_b0.40\n",
      "nnet_conf/tdnn_multitask_a0.10_b0.50\n",
      "nnet_conf/tdnn_multitask_a0.20_b0.10\n",
      "nnet_conf/tdnn_multitask_a0.20_b0.20\n",
      "nnet_conf/tdnn_multitask_a0.20_b0.30\n",
      "nnet_conf/tdnn_multitask_a0.20_b0.40\n",
      "nnet_conf/tdnn_multitask_a0.20_b0.50\n",
      "nnet_conf/tdnn_multitask_a0.30_b0.10\n",
      "nnet_conf/tdnn_multitask_a0.30_b0.20\n",
      "nnet_conf/tdnn_multitask_a0.30_b0.30\n",
      "nnet_conf/tdnn_multitask_a0.30_b0.40\n",
      "nnet_conf/tdnn_multitask_a0.30_b0.50\n",
      "nnet_conf/tdnn_multitask_a0.40_b0.10\n",
      "nnet_conf/tdnn_multitask_a0.40_b0.20\n",
      "nnet_conf/tdnn_multitask_a0.40_b0.30\n",
      "nnet_conf/tdnn_multitask_a0.40_b0.40\n",
      "nnet_conf/tdnn_multitask_a0.40_b0.50\n",
      "nnet_conf/tdnn_multitask_a0.50_b0.10\n",
      "nnet_conf/tdnn_multitask_a0.50_b0.20\n",
      "nnet_conf/tdnn_multitask_a0.50_b0.30\n",
      "nnet_conf/tdnn_multitask_a0.50_b0.40\n",
      "nnet_conf/tdnn_multitask_a0.50_b0.50\n"
     ]
    }
   ],
   "source": [
    "import numpy\n",
    "\n",
    "for a in numpy.arange(0.1,0.6,0.1):\n",
    "    for b in numpy.arange(0.1,0.6,0.1):\n",
    "        f_out = 'nnet_conf/tdnn_multitask_a%.2f_b%.2f'%(a,b)\n",
    "        fp = open(f_out,'w')\n",
    "        print(f_out)\n",
    "        with open('nnet_conf/tdnn_multitask.json') as f:\n",
    "            for line in f:\n",
    "                line = line.strip()\n",
    "                if 'alpha' in line:\n",
    "                    alpha,value = line.split(':')\n",
    "                    fp.write(alpha+\": \"+str(a)+\",\\n\")\n",
    "                elif 'beta' in line:\n",
    "                    beta,value = line.split(':')\n",
    "                    fp.write(beta+\": \"+str(b)+\",\\n\")\n",
    "                else:\n",
    "                    fp.write(line+'\\n')\n"
   ]
  },
  {
   "cell_type": "code",
   "execution_count": 5,
   "metadata": {},
   "outputs": [
    {
     "name": "stdout",
     "output_type": "stream",
     "text": [
      "['\"alpha\": 0,']\n"
     ]
    }
   ],
   "source": [
    "print(line.split(';'))"
   ]
  },
  {
   "cell_type": "code",
   "execution_count": 13,
   "metadata": {},
   "outputs": [
    {
     "data": {
      "text/plain": [
       "array([0. , 0.1, 0.2, 0.3, 0.4])"
      ]
     },
     "execution_count": 13,
     "metadata": {},
     "output_type": "execute_result"
    }
   ],
   "source": [
    "import numpy\n",
    "numpy.arange(0,0.5,0.1)"
   ]
  },
  {
   "cell_type": "code",
   "execution_count": null,
   "metadata": {},
   "outputs": [],
   "source": []
  }
 ],
 "metadata": {
  "kernelspec": {
   "display_name": "Python 3",
   "language": "python",
   "name": "python3"
  },
  "language_info": {
   "codemirror_mode": {
    "name": "ipython",
    "version": 3
   },
   "file_extension": ".py",
   "mimetype": "text/x-python",
   "name": "python",
   "nbconvert_exporter": "python",
   "pygments_lexer": "ipython3",
   "version": "3.6.4"
  }
 },
 "nbformat": 4,
 "nbformat_minor": 2
}
